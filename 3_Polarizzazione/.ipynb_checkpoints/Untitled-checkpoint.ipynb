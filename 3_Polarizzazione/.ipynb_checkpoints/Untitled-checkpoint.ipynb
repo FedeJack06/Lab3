{
 "cells": [
  {
   "cell_type": "code",
   "execution_count": null,
   "id": "20c97098",
   "metadata": {},
   "outputs": [],
   "source": [
    "ifstream malus(\"malus.dat\");"
   ]
  },
  {
   "cell_type": "code",
   "execution_count": null,
   "id": "424ebfce",
   "metadata": {},
   "outputs": [],
   "source": [
    "ifstream max(\"max.dat\");\n",
    "ifstream mezzo(\"mezzo.dat\");\n",
    "ifstream vuoto(\"vuoto.dat\");\n",
    "ifstream quarto(\"quarto.dat\");\n",
    "ifstream ottavo(\"ottavo.dat\");"
   ]
  }
 ],
 "metadata": {
  "kernelspec": {
   "display_name": "ROOT C++",
   "language": "c++",
   "name": "root"
  },
  "language_info": {
   "codemirror_mode": "text/x-c++src",
   "file_extension": ".C",
   "mimetype": " text/x-c++src",
   "name": "c++"
  }
 },
 "nbformat": 4,
 "nbformat_minor": 5
}
