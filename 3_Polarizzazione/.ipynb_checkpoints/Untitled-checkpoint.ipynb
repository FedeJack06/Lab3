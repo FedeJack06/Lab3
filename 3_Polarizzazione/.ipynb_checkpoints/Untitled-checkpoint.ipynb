{
 "cells": [
  {
   "cell_type": "markdown",
   "id": "93f66ca6",
   "metadata": {},
   "source": [
    "## Esperienza legge di malus e attivita ottica: Milici, Giacobbe, Cosso"
   ]
  },
  {
   "cell_type": "markdown",
   "id": "47facba2",
   "metadata": {},
   "source": [
    "## Verifica legge di malus"
   ]
  },
  {
   "cell_type": "code",
   "execution_count": null,
   "id": "cd79d7ab",
   "metadata": {},
   "outputs": [],
   "source": [
    "ifstream malus(\"malus.dat\");"
   ]
  },
  {
   "cell_type": "markdown",
   "id": "9d737f5f",
   "metadata": {},
   "source": [
    "Abbiamo preso 10 punti ogni 5 gradi partendo dal massimo dell'intenista trovato ad occhio."
   ]
  },
  {
   "cell_type": "code",
   "execution_count": null,
   "id": "5d794d46",
   "metadata": {},
   "outputs": [],
   "source": [
    "double Iout,theta,eI;\n",
    "double e = 2*TMath::Pi()/100;\n",
    "auto gr = new TGraphErrors();\n",
    "int i = 0;\n",
    "while (file >> theta >> Iout >> eI)\n",
    "{\n",
    "    gr->SetPoint(i, (theta-52)*2*TMath::Pi()/100, Iout);\n",
    "    gr->SetPointError(i,e/sqrt(3),eI);\n",
    "    i++;\n",
    "}\n",
    "\n",
    "auto f1 = new TF1(\"f1\",\"[0]*pow(cos(x-[1]),2)+[2]\",0.,0.);\n",
    "f1->SetParameters(0.3,0.1,0.01);\n",
    "gStyle->SetOptFit(1011);\n",
    "gr->SetMarkerStyle(20);\n",
    "gr->Draw(\"AP\");\n",
    "gr->SetTitle(\"Iout vs angolo polarizzatore\");\n",
    "gr->GetXaxis()->SetTitle(\"angolo [rad]\");\n",
    "gr->GetYaxis()->SetTitle(\"intensita in uscita []\");\n",
    "gr->Fit(\"f1\");"
   ]
  },
  {
   "cell_type": "markdown",
   "id": "b9b8a270",
   "metadata": {},
   "source": [
    "Come si puo notare dal p-value, l'ipotesi che la distribuzione dei punti segua un coseno al quadrato è da rigettare. Come suggerito dal professor schiavi avremmo potuto prendere qualche punto in piu soprattutto agli estremi dove il fit ha piu difficoltà."
   ]
  },
  {
   "cell_type": "markdown",
   "id": "ac2a93a0",
   "metadata": {},
   "source": [
    "## Attività ottica glucosio"
   ]
  },
  {
   "cell_type": "markdown",
   "id": "4e51401d",
   "metadata": {},
   "source": [
    "Al variare della concentranzione cerchiamo l angolo per cui l'intensita in uscita dal secondo polarizzatore è massia. Per farlo cerchiamo il massimo dell'intensita ad occhio, facciamo 3 misurazioni a destra del massimo e 3 a sinistra, per poi fare il fit con il coseno quadro. Da qui ricaviamo lo schift sulle x che equivale al massimo del coseno. "
   ]
  },
  {
   "cell_type": "code",
   "execution_count": null,
   "id": "e03d5707",
   "metadata": {},
   "outputs": [],
   "source": [
    "ifstream max(\"max.dat\");\n",
    "ifstream mezzo(\"mezzo.dat\");\n",
    "ifstream quarto(\"quarto.dat\");\n",
    "ifstream ottavo(\"ottavo.dat\");\n",
    "ifstream vuoto(\"vuoto.dat\");"
   ]
  },
  {
   "cell_type": "markdown",
   "id": "de33880e",
   "metadata": {},
   "source": [
    "auto max = new TGraphErrors();\n",
    "auto mezzo = new TGraphErrors();\n",
    "auto quarto = new TGraphErrors();\n",
    "auto ottavo = new TGraphErrors();\n",
    "auto vuoto = new TGraphErrors();"
   ]
  },
  {
   "cell_type": "code",
   "execution_count": null,
   "id": "bf0cb66f",
   "metadata": {},
   "outputs": [],
   "source": [
    "auto c = new TCanvas(\"c\",\"titolo\");\n",
    "c->Divide(2,6);"
   ]
  },
  {
   "cell_type": "code",
   "execution_count": null,
   "id": "cd3ca20d",
   "metadata": {},
   "outputs": [],
   "source": [
    "double Iout,theta,eI;\n",
    "TGraphErrors names = [max, mezzo, quarto, ottavo, vuoto]\n",
    "for(int n = 1; n <= 5; n++){\n",
    "    int i = 0;\n",
    "    while (file >> theta >> Iout >> eI)\n",
    "    {\n",
    "        names[n-1]->SetPoint(i, (theta-52)*2*TMath::Pi()/100, Iout);\n",
    "        names[n-1]->SetPointError(i,e/sqrt(3),eI);\n",
    "        i++;\n",
    "    }\n",
    "\n",
    "    c->cd(n);\n",
    "    auto f1 = new TF1(\"f1\",\"[0]*pow(cos(x-[1]),2)+[2]\",0.,0.);\n",
    "    f1->SetParameters(0.3,0.1,0.01);\n",
    "    gStyle->SetOptFit(1011);\n",
    "    names[n-1]->SetMarkerStyle(20);\n",
    "    names[n-1]->Draw(\"AP\");\n",
    "    names[n-1]->SetTitle(\"Iout vs angolo polarizzatore\");\n",
    "    names[n-1]->GetXaxis()->SetTitle(\"angolo [rad]\");\n",
    "    names[n-1]->GetYaxis()->SetTitle(\"intensita in uscita []\");\n",
    "    names[n-1]->Fit(\"f1\");\n",
    "    \n",
    "}"
   ]
  }
 ],
 "metadata": {
  "kernelspec": {
   "display_name": "ROOT C++",
   "language": "c++",
   "name": "root"
  },
  "language_info": {
   "codemirror_mode": "text/x-c++src",
   "file_extension": ".C",
   "mimetype": " text/x-c++src",
   "name": "c++"
  }
 },
 "nbformat": 4,
 "nbformat_minor": 5
}
