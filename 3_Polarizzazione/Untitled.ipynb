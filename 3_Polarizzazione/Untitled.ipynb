{
 "cells": [
  {
   "cell_type": "markdown",
   "id": "47facba2",
   "metadata": {},
   "source": [
    "## Verifica legge di malus"
   ]
  },
  {
   "cell_type": "code",
   "execution_count": null,
   "id": "cd79d7ab",
   "metadata": {},
   "outputs": [],
   "source": []
  }
 ],
 "metadata": {
  "kernelspec": {
   "display_name": "ROOT C++",
   "language": "c++",
   "name": "root"
  },
  "language_info": {
   "codemirror_mode": "text/x-c++src",
   "file_extension": ".C",
   "mimetype": " text/x-c++src",
   "name": "c++"
  }
 },
 "nbformat": 4,
 "nbformat_minor": 5
}
