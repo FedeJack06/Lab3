{
 "cells": [
  {
   "cell_type": "code",
   "execution_count": 1,
   "id": "6899536e",
   "metadata": {},
   "outputs": [],
   "source": [
    "ifstream malus(\"malus.dat\");"
   ]
  },
  {
   "cell_type": "code",
   "execution_count": 1,
   "id": "3b73d7a1",
   "metadata": {},
   "outputs": [],
   "source": [
    "ifstream max(\"max.dat\");\n",
    "ifstream mezzo(\"mezzo.dat\");\n",
    "ifstream vuoto(\"vuoto.dat\");\n",
    "ifstream quarto(\"quarto.dat\");\n",
    "ifstream ottavo(\"ottavo.dat\");"
   ]
  },
  {
   "cell_type": "code",
   "execution_count": null,
   "id": "b0af9eed",
   "metadata": {},
   "outputs": [],
   "source": [
    "double Iout,theta,eI;\n",
    "double e = 2*TMath::Pi()/100;\n",
    "\n",
    "TGraphErrors* gr = new TGraphErrors();\n",
    "int i = 0;\n",
    "\n",
    "while (malus >> theta >> Iout >> eI)\n",
    "{\n",
    "    gr->SetPoint(i, (theta-52)*2*TMath::Pi()/100, Iout);\n",
    "    gr->SetPointError(i,e/sqrt(3),eI);\n",
    "    i++;\n",
    "}\n",
    "\n",
    "TF1* f1 = new TF1(\"f1\",\"[0]*pow(cos(x-[1]),2)+[3]\",0.,0.);\n",
    "f1->SetParameters(0.3,0.1,0.01);\n",
    "gStyle->SetOptFit(1011);\n",
    "gr->SetMarkerStyle(20);\n",
    "gr->Draw(\"AP\");\n",
    "gr->SetTitle(\"Iout vs angolo polarizzatore\");\n",
    "gr->GetXaxis()->SetTitle(\"angolo [rad]\");\n",
    "gr->GetYaxis()->SetTitle(\"intensita in uscita []\");\n",
    "\n",
    "gr->Fit(\"f1\");\n",
    "cout << \"massimo della funzione: \" << f1->GetMaximumX(-0.6,0.6,1e-4) << endl;"
   ]
  },
  {
   "cell_type": "code",
   "execution_count": null,
   "id": "6e676068",
   "metadata": {},
   "outputs": [],
   "source": []
  }
 ],
 "metadata": {
  "kernelspec": {
   "display_name": "ROOT C++",
   "language": "c++",
   "name": "root"
  },
  "language_info": {
   "codemirror_mode": "text/x-c++src",
   "file_extension": ".C",
   "mimetype": " text/x-c++src",
   "name": "c++"
  }
 },
 "nbformat": 4,
 "nbformat_minor": 5
}
